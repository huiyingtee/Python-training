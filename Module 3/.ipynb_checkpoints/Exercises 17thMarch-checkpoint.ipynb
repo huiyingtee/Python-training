{
 "cells": [
  {
   "cell_type": "code",
   "execution_count": 15,
   "metadata": {},
   "outputs": [
    {
     "name": "stdout",
     "output_type": "stream",
     "text": [
      "[4, 6, 8, 9, 11]\n",
      "[4, 6, 8, 9, 11, 13, 17, 20]\n"
     ]
    }
   ],
   "source": [
    "L = [4,6,8,9]\n",
    "len(L)\n",
    "L.append (11)\n",
    "print (L)\n",
    "L + [13,17,20]\n",
    "X = L + [13,17,20]\n",
    "X.sort()\n",
    "print(X)"
   ]
  },
  {
   "cell_type": "code",
   "execution_count": 13,
   "metadata": {},
   "outputs": [
    {
     "data": {
      "text/plain": [
       "5"
      ]
     },
     "execution_count": 13,
     "metadata": {},
     "output_type": "execute_result"
    }
   ],
   "source": [
    "len (L)"
   ]
  },
  {
   "cell_type": "code",
   "execution_count": 23,
   "metadata": {},
   "outputs": [
    {
     "name": "stdout",
     "output_type": "stream",
     "text": [
      "The first element of the list : 4\n",
      "The forth element of the list: 9\n",
      "The Last element of the list: 11\n",
      "The first three elements of the list: [4, 6, 8]\n",
      "The last two elements of the list: [9, 11]\n",
      "Every second element of the list in accending order: [4, 8, 11]\n"
     ]
    }
   ],
   "source": [
    "L = [4,6,8,9,11]\n",
    "print (\"The first element of the list :\", L [0])\n",
    "print (\"The forth element of the list:\", L[3])\n",
    "print (\"The Last element of the list:\", L [-1])\n",
    "print(\"The first three elements of the list:\", L[:3])\n",
    "print (\"The last two elements of the list:\", L[-2:])\n",
    "print (\"Every second element of the list in accending order:\", L[0:len(L):2])"
   ]
  },
  {
   "cell_type": "code",
   "execution_count": null,
   "metadata": {},
   "outputs": [],
   "source": []
  }
 ],
 "metadata": {
  "kernelspec": {
   "display_name": "Python 3",
   "language": "python",
   "name": "python3"
  },
  "language_info": {
   "codemirror_mode": {
    "name": "ipython",
    "version": 3
   },
   "file_extension": ".py",
   "mimetype": "text/x-python",
   "name": "python",
   "nbconvert_exporter": "python",
   "pygments_lexer": "ipython3",
   "version": "3.8.8"
  }
 },
 "nbformat": 4,
 "nbformat_minor": 4
}
