{
 "cells": [
  {
   "cell_type": "code",
   "execution_count": 2,
   "metadata": {},
   "outputs": [
    {
     "name": "stdout",
     "output_type": "stream",
     "text": [
      "Enter your name: hui ying tee\n",
      "Hello there, Hui Ying Tee!\n",
      "How old are you35\n",
      "You are young, Hui Ying Tee!\n"
     ]
    }
   ],
   "source": [
    "name = input (\"Enter your name: \")\n",
    "print (\"Hello there, {}!\".format (name.title()))\n",
    "Age = input (\"How old are you\")\n",
    "print (\"You are young, {}!\".format (name.title()))"
   ]
  },
  {
   "cell_type": "code",
   "execution_count": null,
   "metadata": {},
   "outputs": [],
   "source": []
  }
 ],
 "metadata": {
  "kernelspec": {
   "display_name": "Python 3",
   "language": "python",
   "name": "python3"
  },
  "language_info": {
   "codemirror_mode": {
    "name": "ipython",
    "version": 3
   },
   "file_extension": ".py",
   "mimetype": "text/x-python",
   "name": "python",
   "nbconvert_exporter": "python",
   "pygments_lexer": "ipython3",
   "version": "3.8.8"
  }
 },
 "nbformat": 4,
 "nbformat_minor": 4
}
